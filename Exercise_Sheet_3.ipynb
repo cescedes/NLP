{
 "cells": [
  {
   "cell_type": "markdown",
   "metadata": {},
   "source": [
    "# Natural Language Processing\n",
    "\n",
    "## Exercise Sheet 3"
   ]
  },
  {
   "cell_type": "code",
   "execution_count": 1,
   "metadata": {},
   "outputs": [],
   "source": [
    "#imports for all exercises\n"
   ]
  },
  {
   "cell_type": "markdown",
   "metadata": {},
   "source": [
    "### Exercise 1\n",
    "\n",
    "Rewrite the following loop as a list comprehension:"
   ]
  },
  {
   "cell_type": "code",
   "execution_count": 2,
   "metadata": {},
   "outputs": [
    {
     "data": {
      "text/plain": [
       "[('The', 3),\n",
       " ('dog', 3),\n",
       " ('gave', 4),\n",
       " ('John', 4),\n",
       " ('the', 3),\n",
       " ('newspaper', 9)]"
      ]
     },
     "execution_count": 2,
     "metadata": {},
     "output_type": "execute_result"
    }
   ],
   "source": [
    "sent = ['The', 'dog', 'gave', 'John', 'the', 'newspaper'] \n",
    "result = [] \n",
    "for word in sent: \n",
    "    word_len = (word, len(word)) \n",
    "    result.append(word_len) \n",
    "result"
   ]
  },
  {
   "cell_type": "code",
   "execution_count": 3,
   "metadata": {},
   "outputs": [
    {
     "name": "stdout",
     "output_type": "stream",
     "text": [
      "[('The', 3), ('dog', 3), ('gave', 4), ('John', 4), ('the', 3), ('newspaper', 9)]\n"
     ]
    }
   ],
   "source": [
    "sent = ['The', 'dog', 'gave', 'John', 'the', 'newspaper']\n",
    "result = [(word, len(word)) for word in sent]\n",
    "print(result)"
   ]
  },
  {
   "cell_type": "markdown",
   "metadata": {},
   "source": [
    "### Exercise 2\n",
    "\n",
    "Pig Latin is a simple transformation of English text. Each word of the text is converted as follows: move any consonant (or consonant cluster) that appears at the start of the word to the end, then append \"ay\", e.g. \"string\" $\\rightarrow$ \"ingstray\". If a word starts with a vowel, just add \"way\" to the end, e.g. \"idle\" $\\rightarrow$ \"idleway\". \n",
    "\n",
    "Write a function to convert a word to Pig Latin. Test it with the words \"pig\", \"cheers\", and \"omelet\".\n"
   ]
  },
  {
   "cell_type": "code",
   "execution_count": 4,
   "metadata": {},
   "outputs": [
    {
     "name": "stdout",
     "output_type": "stream",
     "text": [
      "\"pig\" in Pig Latin: \"igpay\"\n",
      "\"cheers\" in Pig Latin: \"eerschay\"\n",
      "\"omelet\" in Pig Latin: \"omeletway\"\n"
     ]
    }
   ],
   "source": [
    "def pig_latin(word):\n",
    "    vowels = \"aeiouAEIOU\"\n",
    "    if word[0] in vowels:\n",
    "        return word + \"way\"\n",
    "    else:\n",
    "        for i, letter in enumerate(word):\n",
    "            if letter in vowels:\n",
    "                return word[i:] + word[:i] + \"ay\"\n",
    "        return word + \"ay\" \n",
    "\n",
    "words = [\"pig\", \"cheers\", \"omelet\"]\n",
    "for word in words:\n",
    "    piglatin_word = pig_latin(word)\n",
    "    print(f'\"{word}\" in Pig Latin: \"{piglatin_word}\"')"
   ]
  },
  {
   "cell_type": "markdown",
   "metadata": {},
   "source": [
    "### Exercise 3\n",
    "\n",
    "Python's `random` module includes a function `choice()` which randomly chooses an item from a sequence, e.g. `choice('aehh ')` will produce one of four possible characters, with the letter \"h\" being twice as frequent as the others. Write a generator expression that produces a sequence of 500 randomly chosen letters drawn from the string \"aehh \", and put this expression inside a call to the `''.join()` function, to concatenate them into one long string. You should get a result that looks like uncontrolled sneezing or maniacal laughter: \"he  haha ee  heheeh eha\". Use `split()` and `join()` again to normalize the whitespace in this string."
   ]
  },
  {
   "cell_type": "code",
   "execution_count": 5,
   "metadata": {},
   "outputs": [
    {
     "name": "stdout",
     "output_type": "stream",
     "text": [
      "eeehehhaeha hhhhhah eaehhhhhhhe aehh ahheheeahahhahhehh hahh ahhehhhea hhe h ee heheah he ahh a ea eehhehah aha eehhhaaeh a ahah ee hahahh h hehhhhh he ehehhheah haeeaheaeehhhehehhaa a h ehaaa hhehhhhaeaeehaaeae hh aheaahha ahhe aaaaeheehhahe aeheheheaehhaahah e ha a heh ahhhahheaeaahhheaaeaheheahhh aea h aaee hah hheeehhe hheaaehaeh ee hh he ehhhah h ha ehahhhhae hehhhheeh h ee hh haeh haeahea h he eaehe ehaehhhehhhahhhaa hhahah ee eehe hhahhh hhhhhhhhh ehh aaha ahhhhhehhahea h\n"
     ]
    }
   ],
   "source": [
    "import random\n",
    "\n",
    "#a sequence of 500 randomly chosen letters drawn from the string\n",
    "random_letters = ''.join(random.choice(\"aehh \") for _ in range(500))\n",
    "\n",
    "#normalize the whitespace in this string\n",
    "normalized_text = ' '.join(random_letters.split())\n",
    "\n",
    "print(normalized_text)"
   ]
  },
  {
   "cell_type": "markdown",
   "metadata": {},
   "source": [
    "### Exercise 4\n",
    "\n",
    "Readability measures are used to score the reading difficulty of a text, for the purposes of selecting texts of appropriate difficulty for language learners. Let us define $\\mu_w$ to be the average number of letters per word, and $\\mu_s$ to be the average number of words per sentence, in a given text. The Automated Readability Index (ARI) of the text is defined to be: $4.71 \\mu_w + 0.5 \\mu_s - 21.43$. Compute the ARI score for the \"lore\" and \"learned\" genre of the Brown Corpus. Make use of the fact that `nltk.corpus.brown.words()` produces a sequence of words, while `nltk.corpus.brown.sents()` produces a sequence of sentences.\n"
   ]
  },
  {
   "cell_type": "code",
   "execution_count": 6,
   "metadata": {},
   "outputs": [
    {
     "name": "stdout",
     "output_type": "stream",
     "text": [
      "ARI score for 'lore' genre: 10.25\n",
      "ARI score for 'learned' genre: 11.93\n"
     ]
    }
   ],
   "source": [
    "import nltk\n",
    "from nltk.corpus import brown\n",
    "\n",
    "def calculate_ari(words, sentences):\n",
    "    total_letters = sum(len(word) for word in words)\n",
    "    total_words = len(words)\n",
    "    total_sentences = len(sentences)\n",
    "    \n",
    "    mu_w = total_letters / total_words\n",
    "    mu_s = total_words / total_sentences\n",
    "    \n",
    "    ari_score = 4.71 * mu_w + 0.5 * mu_s - 21.43\n",
    "    return ari_score\n",
    "\n",
    "lore_words = brown.words(categories='lore')\n",
    "lore_sentences = brown.sents(categories='lore')\n",
    "ari_lore = calculate_ari(lore_words, lore_sentences)\n",
    "\n",
    "learned_words = brown.words(categories='learned')\n",
    "learned_sentences = brown.sents(categories='learned')\n",
    "ari_learned = calculate_ari(learned_words, learned_sentences)\n",
    "\n",
    "print(f\"ARI score for 'lore' genre: {ari_lore:.2f}\")\n",
    "print(f\"ARI score for 'learned' genre: {ari_learned:.2f}\")\n"
   ]
  },
  {
   "cell_type": "markdown",
   "metadata": {},
   "source": [
    "### Exercise 5\n",
    "\n",
    "Define a variable `silly` to contain the string: 'newly formed bland ideas are inexpressible in an infuriating way'. Now write code to perform the following tasks:\n",
    "\n",
    "a) Split `silly` into a list of strings, one per word, using Python's `split()` operation, and save this to a variable called `bland`.  \n",
    "b) Extract the second letter of each word in `silly` and join them into a string, to get 'eoldrnnnna'.  \n",
    "c) Combine the words in `bland` back into a single string, using `join()`. Make sure the words in the resulting string are separated with whitespace.  \n",
    "d) Print the words of `silly` in alphabetical order, one per line.  "
   ]
  },
  {
   "cell_type": "code",
   "execution_count": 7,
   "metadata": {},
   "outputs": [
    {
     "name": "stdout",
     "output_type": "stream",
     "text": [
      "Split 'silly' into a list of words:\n",
      "['newly', 'formed', 'bland', 'ideas', 'are', 'inexpressible', 'in', 'an', 'infuriating', 'way']\n",
      "\n",
      "Extract the second letter of each word and join them into a string:\n",
      "eoldrnnnna\n",
      "\n",
      "Combine the words in 'bland' back into a single string:\n",
      "newly formed bland ideas are inexpressible in an infuriating way\n",
      "\n",
      "Print the words of 'silly' in alphabetical order:\n",
      "an\n",
      "are\n",
      "bland\n",
      "formed\n",
      "ideas\n",
      "in\n",
      "inexpressible\n",
      "infuriating\n",
      "newly\n",
      "way\n"
     ]
    }
   ],
   "source": [
    "silly = 'newly formed bland ideas are inexpressible in an infuriating way'  # define the 'silly' string\n",
    "\n",
    "bland = silly.split() # task A\n",
    "\n",
    "second_letters = ''.join(word[1] for word in bland) # task B\n",
    "\n",
    "combined_words = ' '.join(bland) # task C\n",
    "\n",
    "sorted_words = sorted(bland) # task D\n",
    "\n",
    "# Print the results\n",
    "print(\"Split 'silly' into a list of words:\")\n",
    "print(bland)\n",
    "\n",
    "print(\"\\nExtract the second letter of each word and join them into a string:\")\n",
    "print(second_letters)\n",
    "\n",
    "print(\"\\nCombine the words in 'bland' back into a single string:\")\n",
    "print(combined_words)\n",
    "\n",
    "print(\"\\nPrint the words of 'silly' in alphabetical order:\")\n",
    "for word in sorted_words:\n",
    "    print(word)\n"
   ]
  },
  {
   "cell_type": "markdown",
   "metadata": {},
   "source": [
    "### Exercise 6\n",
    "\n",
    "Rewrite the following nested loop as a nested list comprehension:"
   ]
  },
  {
   "cell_type": "code",
   "execution_count": 8,
   "metadata": {},
   "outputs": [
    {
     "data": {
      "text/plain": [
       "['aiuio', 'eaiou', 'eouio', 'euoia', 'oauaio', 'uiieioa']"
      ]
     },
     "execution_count": 8,
     "metadata": {},
     "output_type": "execute_result"
    }
   ],
   "source": [
    "words = ['attribution', 'confabulation', 'tenacious', 'elocution',\n",
    "         'sequoia', 'tenacious', 'unidirectional']\n",
    "vsequences = set()\n",
    "for word in words:\n",
    "    vowels = []\n",
    "    for char in word:\n",
    "        if char in 'aeiou':\n",
    "            vowels.append(char)\n",
    "    vsequences.add(''.join(vowels))\n",
    "sorted(vsequences)"
   ]
  },
  {
   "cell_type": "code",
   "execution_count": 9,
   "metadata": {},
   "outputs": [
    {
     "name": "stdout",
     "output_type": "stream",
     "text": [
      "['aiuio', 'eaiou', 'eouio', 'euoia', 'oauaio', 'uiieioa']\n"
     ]
    }
   ],
   "source": [
    "words = ['attribution', 'confabulation', 'tenacious', 'elocution',\n",
    "         'sequoia', 'tenacious', 'unidirectional']\n",
    "\n",
    "vsequences = sorted({''.join(char for char in word if char in 'aeiou') for word in words})\n",
    "print(vsequences)"
   ]
  }
 ],
 "metadata": {
  "kernelspec": {
   "display_name": "Python 3 (ipykernel)",
   "language": "python",
   "name": "python3"
  },
  "language_info": {
   "codemirror_mode": {
    "name": "ipython",
    "version": 3
   },
   "file_extension": ".py",
   "mimetype": "text/x-python",
   "name": "python",
   "nbconvert_exporter": "python",
   "pygments_lexer": "ipython3",
   "version": "3.10.9"
  }
 },
 "nbformat": 4,
 "nbformat_minor": 2
}
